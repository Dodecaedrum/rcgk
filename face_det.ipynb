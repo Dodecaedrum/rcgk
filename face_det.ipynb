{
 "cells": [
  {
   "cell_type": "code",
   "execution_count": 1,
   "metadata": {},
   "outputs": [],
   "source": [
    "# pip install -U tensorflow --user"
   ]
  },
  {
   "cell_type": "code",
   "execution_count": null,
   "metadata": {},
   "outputs": [],
   "source": []
  },
  {
   "cell_type": "code",
   "execution_count": 2,
   "metadata": {},
   "outputs": [],
   "source": [
    "import cv2\n",
    "import numpy as np\n",
    "from tensorflow.keras.applications.mobilenet_v2 import preprocess_input\n",
    "from tensorflow.keras.preprocessing.image import img_to_array\n",
    "from tensorflow.keras.models import load_model\n",
    "import numpy as np\n",
    "import time\n",
    "import os\n",
    "# from IPython.core.interactiveshell import InteractiveShell\n",
    "# InteractiveShell.ast_node_interactivity = \"all\""
   ]
  },
  {
   "cell_type": "code",
   "execution_count": 3,
   "metadata": {},
   "outputs": [],
   "source": [
    "video = cv2.VideoCapture(0)\n",
    "frame_width = int(video.get(3))\n",
    "frame_height = int(video.get(4))\n",
    "out = cv2.VideoWriter('turns.avi',cv2.VideoWriter_fourcc('M','J','P','G'), 8, (frame_width,frame_height))\n",
    "front_det = cv2.CascadeClassifier(r'H:\\Python\\Data\\Haar_cascade\\frontalFace10\\haarcascade_frontalface_alt2.xml')\n",
    "prof_det = cv2.CascadeClassifier(r'H:\\Python\\Data\\Haar_cascade\\profileFace10\\haarcascade_profileface.xml')\n",
    "font = cv2.FONT_HERSHEY_DUPLEX\n",
    "\n",
    "maskNet = load_model(\"mask_detector.model\")\n",
    "prototxtPath = r\"face_detector\\deploy.prototxt\"\n",
    "weightsPath = r\"face_detector\\res10_300x300_ssd_iter_140000.caffemodel\"\n",
    "faceNet = cv2.dnn.readNet(prototxtPath, weightsPath)"
   ]
  },
  {
   "cell_type": "code",
   "execution_count": 4,
   "metadata": {},
   "outputs": [
    {
     "name": "stderr",
     "output_type": "stream",
     "text": [
      "<ipython-input-4-b55d3de4c327>:40: DeprecationWarning: elementwise comparison failed; this will raise an error in the future.\n",
      "  if front_faces_l!=():\n",
      "<ipython-input-4-b55d3de4c327>:47: DeprecationWarning: elementwise comparison failed; this will raise an error in the future.\n",
      "  if front_faces_r!=():\n",
      "<ipython-input-4-b55d3de4c327>:68: DeprecationWarning: elementwise comparison failed; this will raise an error in the future.\n",
      "  if front_faces_l==() and front_faces_r==() and prof_faces_l==() and prof_faces_r==():\n",
      "<ipython-input-4-b55d3de4c327>:55: DeprecationWarning: elementwise comparison failed; this will raise an error in the future.\n",
      "  if prof_faces_l!=():\n",
      "<ipython-input-4-b55d3de4c327>:61: DeprecationWarning: elementwise comparison failed; this will raise an error in the future.\n",
      "  if prof_faces_r!=():\n"
     ]
    }
   ],
   "source": [
    "\n",
    "while True:\n",
    "    ret, frame = video.read()\n",
    "#     frame_res = cv2.resize(frame,(244,244))\n",
    "#     frame_res = img_to_array(frame_res)\n",
    "#     frame_res = preprocess_input(frame_res)\n",
    "#     pred = maskNet.predict(frame_res, batch_size=32)\n",
    "#     (mask, withoutMask) = pred\n",
    "#     label = \"Mask\" if mask > withoutMask else \"No Mask\"\n",
    "#     color = (0, 255, 0) if label == \"Mask\" else (0, 0, 255)\n",
    "    \n",
    "    \n",
    "    front_faces_l =front_det.detectMultiScale(\n",
    "        frame,     \n",
    "        scaleFactor=1.2,\n",
    "        minNeighbors=5,     \n",
    "        minSize=(20, 20)\n",
    "    )\n",
    "    \n",
    "    prof_faces_l =prof_det.detectMultiScale(\n",
    "        frame,     \n",
    "        scaleFactor=1.2,\n",
    "        minNeighbors=5,     \n",
    "        minSize=(20, 20)\n",
    "    )\n",
    "    \n",
    "    frame_rev = cv2.flip(frame, 1)\n",
    "    front_faces_r = front_det.detectMultiScale(\n",
    "        frame_rev,     \n",
    "        scaleFactor=1.2,\n",
    "        minNeighbors=5,     \n",
    "        minSize=(20, 20)\n",
    "    )    \n",
    "    prof_faces_r = prof_det.detectMultiScale(\n",
    "        frame_rev,     \n",
    "        scaleFactor=1.2,\n",
    "        minNeighbors=5,     \n",
    "        minSize=(20, 20)\n",
    "    )\n",
    "    \n",
    "    if front_faces_l!=():\n",
    "        for (x,y,w,h) in front_faces_l:\n",
    "            cv2.rectangle(frame,(x,y),(x+w,y+h),(0,255,0),2)\n",
    "#             cv2.putText(frame, label, (x, y),\n",
    "#             cv2.FONT_HERSHEY_SIMPLEX, 0.45, color, 2)\n",
    "           \n",
    "\n",
    "    if front_faces_r!=():\n",
    "        for (x,y,w,h) in front_faces_r:\n",
    "            cv2.rectangle(frame_rev,(x,y),(x+w,y+h),(0,255,0),2)\n",
    "            frame =  cv2.flip(frame_rev, 1)\n",
    "#             cv2.putText(frame, label, (x, y),\n",
    "#             cv2.FONT_HERSHEY_SIMPLEX, 0.45, color, 2)\n",
    "            \n",
    "            \n",
    "    if prof_faces_l!=():\n",
    "            for (x,y,w,h) in prof_faces_l:\n",
    "                cv2.rectangle(frame,(x,y),(x+w,y+h),(0,0,255),2)            \n",
    "                cv2.putText(frame, 'OBJECT TURNED!!!', (x + 6, y - 6), font, 0.5, (0, 0, 255), 1)\n",
    "                out.write(frame)\n",
    " \n",
    "    if prof_faces_r!=():\n",
    "        for (x,y,w,h) in prof_faces_r:\n",
    "            cv2.rectangle(frame_rev,(x,y),(x+w,y+h),(0,0,255),2)\n",
    "            frame =  cv2.flip(frame_rev, 1)\n",
    "            cv2.putText(frame, 'OBJECT TURNED!!!', (x + 6 + w, y - 6), font, 0.5, (0, 0, 255), 1)\n",
    "            out.write(frame)\n",
    "            \n",
    "    if front_faces_l==() and front_faces_r==() and prof_faces_l==() and prof_faces_r==():\n",
    "        cv2.putText(frame, 'NO FACE!!!',(50,50), font, 0.5, (0, 0, 255), 1)\n",
    "        out.write(frame)\n",
    "        \n",
    "    cv2.imshow('camera',frame)\n",
    "    if cv2.waitKey(1) & 0xFF == ord('q'):\n",
    "        break\n",
    "        \n",
    "video.release()\n",
    "out.release()\n",
    "cv2.destroyAllWindows() \n",
    "\n"
   ]
  },
  {
   "cell_type": "code",
   "execution_count": null,
   "metadata": {},
   "outputs": [],
   "source": []
  }
 ],
 "metadata": {
  "kernelspec": {
   "display_name": "Python 3",
   "language": "python",
   "name": "python3"
  },
  "language_info": {
   "codemirror_mode": {
    "name": "ipython",
    "version": 3
   },
   "file_extension": ".py",
   "mimetype": "text/x-python",
   "name": "python",
   "nbconvert_exporter": "python",
   "pygments_lexer": "ipython3",
   "version": "3.8.3"
  }
 },
 "nbformat": 4,
 "nbformat_minor": 4
}
